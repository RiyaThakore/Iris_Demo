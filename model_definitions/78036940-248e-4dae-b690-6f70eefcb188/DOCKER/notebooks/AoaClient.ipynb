{
 "cells": [
  {
   "cell_type": "code",
   "execution_count": null,
   "metadata": {},
   "outputs": [],
   "source": [
    "import os\n",
    "import getpass\n",
    "import subprocess\n",
    "\n",
    "class AoaClient(): \n",
    "    \n",
    "    def __init__(self, username=\"admin\", password=\"admin\"):\n",
    "        # aoa username & password\n",
    "        self.username = username\n",
    "        self.password = password\n",
    "        \n",
    "        # add AOA cli tool to path\n",
    "        os.environ[\"PATH\"] += os.pathsep + \"../../../../../cli/\"\n",
    "        \n",
    "    def configure_vantage_test_credentials(self): \n",
    "        os.environ[\"TD_USERNAME\"] = input(\"Username: \")\n",
    "        os.environ[\"TD_PASSWORD\"] = getpass.getpass(\"Password:\")\n",
    "        \n",
    "    def add_dataset(self, name, metadata, desc=\"\"): \n",
    "        # can upload to AOA via API (validate name unique)\n",
    "        self._write_json(\"models/\" + name + \".json\", metadata)\n",
    "        \n",
    "    def set_model_config(self, metadata): \n",
    "        self._write_json(\"../../config.json\", metadata)\n",
    "        \n",
    "    def train(self, dataset):\n",
    "        subprocess.check_output(\"run-model-cli.py 78036940-248e-4dae-b690-6f70eefcb188 evaluate -d models/{}.json\".format(dataset), shell=True)\n",
    "        \n",
    "    def evaluate(self, dataset):\n",
    "        subprocess.check_output(\"run-model-cli.py 78036940-248e-4dae-b690-6f70eefcb188 evaluate -d models/{}.json\".format(dataset), shell=True)\n",
    "    \n",
    "    def _write_json(self, filename, obj):\n",
    "        with open(filename, \"w\") as f:\n",
    "            json.dump(obj, f)"
   ]
  },
  {
   "cell_type": "code",
   "execution_count": null,
   "metadata": {},
   "outputs": [],
   "source": [
    "\n",
    "cli = AoaClient()\n",
    "\n",
    "cli.configure_vantage_test_credentials()\n",
    "\n",
    "## Dataset metadata\n",
    "# build the dataset metadata which **must** also exist in the AOA \n",
    "cli.add_dataset(\"train\", metadata={\n",
    "    \"hostname\": \"tddb-env-d-268.vantage.demo.intellicloud.teradata.com\",\n",
    "    \"schema\": \"your-schema\",\n",
    "    \"model_table\": \"csi_telco_churn_model\",\n",
    "    \"data_table\": \"model_dataset_train\"\n",
    "})\n",
    "\n",
    "\n",
    "# write the evaluation dataset metadata\n",
    "cli.add_dataset(\"train\", metadata={\n",
    "    \"hostname\": \"tddb-env-d-268.vantage.demo.intellicloud.teradata.com\",\n",
    "    \"schema\": \"your-schema\",\n",
    "    \"model_table\": \"csi_telco_churn_model\",\n",
    "    \"data_table\": \".model_dataset_test\",\n",
    "    \"results_table\": \"telco_stat_output\"\n",
    "})\n",
    "\n",
    "    \n",
    "## Model configuration \n",
    "# Notice how the model_type hyperparameters is the name we use in the ModelType argument for the MLE\n",
    "cli.set_model_config(metadata={\n",
    "      \"hyperParameters\": {\n",
    "          \"type\": \"Naive Bayes\",\n",
    "          \"model_type\": \"Bernoulli\"\n",
    "      }\n",
    "    })\n"
   ]
  }
 ],
 "metadata": {
  "kernelspec": {
   "display_name": "Python 3",
   "language": "python",
   "name": "python3"
  },
  "language_info": {
   "codemirror_mode": {
    "name": "ipython",
    "version": 3
   },
   "file_extension": ".py",
   "mimetype": "text/x-python",
   "name": "python",
   "nbconvert_exporter": "python",
   "pygments_lexer": "ipython3",
   "version": "3.6.8"
  }
 },
 "nbformat": 4,
 "nbformat_minor": 2
}
