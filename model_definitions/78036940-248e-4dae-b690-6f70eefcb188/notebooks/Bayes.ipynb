{
 "cells": [
  {
   "cell_type": "markdown",
   "metadata": {},
   "source": [
    "<img src=\"https://www.teradata.com/Teradata/Images/Rebrand/Teradata_logo-two_color.png\" alt=\"Teradata\" width=\"400\" align=\"right\"/>\n",
    "\n",
    "<br/>\n",
    "\n",
    "# TELCO CHURN DEMO\n",
    "# **PART 2: MODELLING (NAIVE BAYES)** "
   ]
  },
  {
   "cell_type": "code",
   "execution_count": 1,
   "metadata": {},
   "outputs": [
    {
     "name": "stdout",
     "output_type": "stream",
     "text": [
      "Disconnected: NAME=ck186030, USER=ck186030, HOST=tddb-env-d-268.vantage.demo.intellicloud.teradata.com\n"
     ]
    }
   ],
   "source": [
    "%lsconnect"
   ]
  },
  {
   "cell_type": "code",
   "execution_count": 3,
   "metadata": {},
   "outputs": [
    {
     "name": "stdout",
     "output_type": "stream",
     "text": [
      "Success: 'ck186030' connection established\n"
     ]
    }
   ],
   "source": [
    "%connect ck186030"
   ]
  },
  {
   "cell_type": "markdown",
   "metadata": {},
   "source": [
    "#### 1a. Perform Naive Bayes on assocaited text tokens for known PATHS (TRAINING TABLE ONLY)"
   ]
  },
  {
   "cell_type": "code",
   "execution_count": 4,
   "metadata": {},
   "outputs": [
    {
     "data": {
      "text/plain": [
       "Success: 17 rows affected"
      ]
     },
     "execution_count": 4,
     "metadata": {
      "application/vnd.teradata.resultset": ""
     },
     "output_type": "execute_result"
    }
   ],
   "source": [
    "DROP TABLE csi_telco_churn_model;"
   ]
  },
  {
   "cell_type": "code",
   "execution_count": 5,
   "metadata": {},
   "outputs": [
    {
     "data": {
      "text/plain": [
       "Success: 0 rows affected"
      ]
     },
     "execution_count": 5,
     "metadata": {
      "application/vnd.teradata.resultset": ""
     },
     "output_type": "execute_result"
    }
   ],
   "source": [
    "CREATE MULTISET TABLE csi_telco_churn_model \n",
    "AS (\n",
    "  SELECT * FROM NaiveBayesTextClassifierTrainer (\n",
    "    ON (\n",
    "      SELECT * FROM NaiveBayesTextClassifierInternal (\n",
    "        ON ( SELECT *\n",
    "        FROM model_dataset_train\n",
    "        ) AS \"input\" PARTITION BY category\n",
    "        USING\n",
    "        TokenColumn ('token')\n",
    "       \tModelType ('Bernoulli')\n",
    "        DocIDColumns ('customerid')\n",
    "        DocCategoryColumn ('category')\n",
    "      ) AS alias_1\n",
    "    ) PARTITION BY 1\n",
    "  ) AS alias_2 \n",
    ")\n",
    "WITH DATA;"
   ]
  },
  {
   "cell_type": "markdown",
   "metadata": {},
   "source": [
    "#### 1b.  Perform the Naive Bayes PREDICT function using the MLE on the TEST data"
   ]
  },
  {
   "cell_type": "code",
   "execution_count": 6,
   "metadata": {},
   "outputs": [
    {
     "data": {
      "text/plain": [
       "Success: 17 rows affected"
      ]
     },
     "execution_count": 6,
     "metadata": {
      "application/vnd.teradata.resultset": ""
     },
     "output_type": "execute_result"
    }
   ],
   "source": [
    "DROP TABLE csi_telco_churn_predict_test;"
   ]
  },
  {
   "cell_type": "code",
   "execution_count": 7,
   "metadata": {},
   "outputs": [
    {
     "data": {
      "text/plain": [
       "Success: 0 rows affected"
      ]
     },
     "execution_count": 7,
     "metadata": {
      "application/vnd.teradata.resultset": ""
     },
     "output_type": "execute_result"
    }
   ],
   "source": [
    "CREATE TABLE csi_telco_churn_predict_test\n",
    "AS\n",
    "(SELECT *\n",
    "    FROM NaiveBayesTextClassifierPredict@coprocessor (\n",
    "    ON (SELECT *\n",
    "        FROM model_dataset_test\n",
    "    ) AS predicts \n",
    "    PARTITION BY customerid\n",
    "    ON csi_telco_churn_model AS model DIMENSION\n",
    "    USING\n",
    "    InputTokenColumn ('token')\n",
    "    ModelType ('Bernoulli')\n",
    "    DocIDColumns ('customerid')\n",
    "    TopK (2)\n",
    "  ) AS dt\n",
    ")\n",
    "WITH DATA;"
   ]
  },
  {
   "cell_type": "code",
   "execution_count": 8,
   "metadata": {},
   "outputs": [
    {
     "data": {
      "application/vnd.teradata.resultset": "[{\"customerid\":\"530333\",\"loglik\":\"-13.717824010983582\",\"prediction\":\"CHURN\"},{\"customerid\":\"657232\",\"loglik\":\"-4.976559003595135\",\"prediction\":\"NON CHURN\"},{\"customerid\":\"657232\",\"loglik\":\"-17.09758106140787\",\"prediction\":\"CHURN\"},{\"customerid\":\"671853\",\"loglik\":\"-21.167482616777292\",\"prediction\":\"CHURN\"},{\"customerid\":\"602031\",\"loglik\":\"-13.717824010983582\",\"prediction\":\"CHURN\"},{\"customerid\":\"602031\",\"loglik\":\"-4.416404694865529\",\"prediction\":\"NON CHURN\"},{\"customerid\":\"671853\",\"loglik\":\"-5.509423562257397\",\"prediction\":\"NON CHURN\"},{\"customerid\":\"530333\",\"loglik\":\"-4.416404694865529\",\"prediction\":\"NON CHURN\"},{\"customerid\":\"600155\",\"loglik\":\"-17.137676575692762\",\"prediction\":\"CHURN\"},{\"customerid\":\"600155\",\"loglik\":\"-4.090119121923088\",\"prediction\":\"NON CHURN\"}]\n",
      "text/html": [
       "<div class = \"td-resultset-table-div\" style = \"max-height: 257px; overflow-y: auto\"><style> table {border: 1px solid rgb(207, 207, 207) !important; border-collapse: collapse !important; margin-top: 1px !important;} th {border: 1px solid rgb(198,198,198) !important; border-collapse: collapse !important; padding: 2px 5px !important; font-size: 13px !important; min-width:150px !important; max-width: 150px !important; white-space: nowrap !important; overflow:hidden !important; text-overflow:ellipsis !important;} tr:nth-child(even) {background: rgba(243, 243, 243, 0.75) !important;} td {border: 1px solid rgb(207, 207, 207) !important; border-collapse: collapse !important; padding: 2px 5px !important; font-size: 13px !important; min-width:150px !important; max-width: 150px !important; white-space: nowrap !important; overflow:hidden !important; text-overflow:ellipsis !important;}</style><table><thead><tr style= \"background: #efefef;\"><th>customerid</th><th>prediction</th><th>loglik</th></tr></thead><tr><td>530333</td><td>CHURN</td><td>-13.717824010983582</td></tr><tr><td>657232</td><td>NON CHURN</td><td>-4.976559003595135</td></tr><tr><td>657232</td><td>CHURN</td><td>-17.09758106140787</td></tr><tr><td>671853</td><td>CHURN</td><td>-21.167482616777292</td></tr><tr><td>602031</td><td>CHURN</td><td>-13.717824010983582</td></tr><tr><td>602031</td><td>NON CHURN</td><td>-4.416404694865529</td></tr><tr><td>671853</td><td>NON CHURN</td><td>-5.509423562257397</td></tr><tr><td>530333</td><td>NON CHURN</td><td>-4.416404694865529</td></tr><tr><td>600155</td><td>CHURN</td><td>-17.137676575692762</td></tr><tr><td>600155</td><td>NON CHURN</td><td>-4.090119121923088</td></tr></table></div>"
      ]
     },
     "execution_count": 8,
     "metadata": {
      "application/vnd.teradata.resultset": "{\"resultSetID\":\"/Users/ck186030/Enterprise_Git_Master/Demos/DataScienceExploration/appcenter/DataScienceDemos/Telco Churn/teradata SQL kernal/Teradata/Resultsets/2019.07.04_20.40.44.247_CEST\",\"historyID\":91,\"chunkID\":\"00001\",\"sessionid\":\"\",\"portnum\":\"\",\"dockermode\":\"standalone\",\"totalRowCount\":10,\"rowLimit\":0,\"columnMetadata\":[{\"columnName\":\"customerid\",\"columnTypeName\":\"INTEGER\"},{\"columnNumber\":1,\"columnName\":\"prediction\",\"columnTypeName\":\"LONG VARCHAR\",\"length\":32000,\"scale\":32000},{\"columnNumber\":2,\"columnName\":\"loglik\",\"columnTypeName\":\"FLOAT\"}]}"
     },
     "output_type": "execute_result"
    }
   ],
   "source": [
    "SELECT\n",
    "TOP 10 *\n",
    "FROM csi_telco_churn_predict_test;"
   ]
  },
  {
   "cell_type": "markdown",
   "metadata": {},
   "source": [
    "#### 2c. Pivot from long to wide and create a binary output for confusion matrix"
   ]
  },
  {
   "cell_type": "code",
   "execution_count": 9,
   "metadata": {},
   "outputs": [
    {
     "data": {
      "text/plain": [
       "Success: 17 rows affected"
      ]
     },
     "execution_count": 9,
     "metadata": {
      "application/vnd.teradata.resultset": ""
     },
     "output_type": "execute_result"
    }
   ],
   "source": [
    "DROP TABLE csi_telco_churn_predict_test_pivot;"
   ]
  },
  {
   "cell_type": "code",
   "execution_count": 10,
   "metadata": {},
   "outputs": [
    {
     "data": {
      "text/plain": [
       "Success: 0 rows affected"
      ]
     },
     "execution_count": 10,
     "metadata": {
      "application/vnd.teradata.resultset": ""
     },
     "output_type": "execute_result"
    }
   ],
   "source": [
    "CREATE TABLE csi_telco_churn_predict_test_pivot\n",
    "AS\n",
    "(\n",
    "  SELECT * FROM Pivoting (\n",
    "    ON csi_telco_churn_predict_test\n",
    "    PARTITION BY customerid\n",
    "    ORDER BY customerid, prediction\n",
    "    USING\n",
    "    PartitionColumns ('customerid')\n",
    "    NumberOfRows (2)\n",
    "    TargetColumns ('loglik')\n",
    "  ) AS dt\n",
    ") \n",
    "WITH DATA;"
   ]
  },
  {
   "cell_type": "code",
   "execution_count": 11,
   "metadata": {},
   "outputs": [
    {
     "data": {
      "application/vnd.teradata.resultset": "[{\"customerid\":\"417117\",\"loglik_0\":\"-16.384631253551746\",\"loglik_1\":\"-5.391957459552696\"}]\n",
      "text/html": [
       "<div class = \"td-resultset-table-div\" style = \"max-height: 77px; overflow-y: auto\"><style> table {border: 1px solid rgb(207, 207, 207) !important; border-collapse: collapse !important; margin-top: 1px !important;} th {border: 1px solid rgb(198,198,198) !important; border-collapse: collapse !important; padding: 2px 5px !important; font-size: 13px !important; min-width:150px !important; max-width: 150px !important; white-space: nowrap !important; overflow:hidden !important; text-overflow:ellipsis !important;} tr:nth-child(even) {background: rgba(243, 243, 243, 0.75) !important;} td {border: 1px solid rgb(207, 207, 207) !important; border-collapse: collapse !important; padding: 2px 5px !important; font-size: 13px !important; min-width:150px !important; max-width: 150px !important; white-space: nowrap !important; overflow:hidden !important; text-overflow:ellipsis !important;}</style><table><thead><tr style= \"background: #efefef;\"><th>customerid</th><th>loglik_0</th><th>loglik_1</th></tr></thead><tr><td>417117</td><td>-16.384631253551746</td><td>-5.391957459552696</td></tr></table></div>"
      ]
     },
     "execution_count": 11,
     "metadata": {
      "application/vnd.teradata.resultset": "{\"resultSetID\":\"/Users/ck186030/Enterprise_Git_Master/Demos/DataScienceExploration/appcenter/DataScienceDemos/Telco Churn/teradata SQL kernal/Teradata/Resultsets/2019.07.04_20.41.08.595_CEST\",\"historyID\":94,\"chunkID\":\"00001\",\"sessionid\":\"\",\"portnum\":\"\",\"dockermode\":\"standalone\",\"totalRowCount\":1,\"rowLimit\":0,\"columnMetadata\":[{\"columnName\":\"customerid\",\"columnTypeName\":\"INTEGER\"},{\"columnNumber\":1,\"columnName\":\"loglik_0\",\"columnTypeName\":\"FLOAT\"},{\"columnNumber\":2,\"columnName\":\"loglik_1\",\"columnTypeName\":\"FLOAT\"}]}"
     },
     "output_type": "execute_result"
    }
   ],
   "source": [
    "SELECT *\n",
    "FROM csi_telco_churn_predict_test_pivot\n",
    "WHERE customerid = 417117;"
   ]
  },
  {
   "cell_type": "code",
   "execution_count": 12,
   "metadata": {},
   "outputs": [
    {
     "data": {
      "text/plain": [
       "Success: 17 rows affected"
      ]
     },
     "execution_count": 12,
     "metadata": {
      "application/vnd.teradata.resultset": ""
     },
     "output_type": "execute_result"
    }
   ],
   "source": [
    "DROP TABLE csi_telco_churn_predict_test_binary;"
   ]
  },
  {
   "cell_type": "code",
   "execution_count": 13,
   "metadata": {},
   "outputs": [
    {
     "data": {
      "text/plain": [
       "Success: 0 rows affected"
      ]
     },
     "execution_count": 13,
     "metadata": {
      "application/vnd.teradata.resultset": ""
     },
     "output_type": "execute_result"
    }
   ],
   "source": [
    "CREATE TABLE csi_telco_churn_predict_test_binary\n",
    "AS\n",
    "(SELECT\n",
    "    actuals.customerid\n",
    "    , actuals.actual\n",
    "    , predictions.prediction\n",
    "    FROM(SELECT\n",
    "        orig_test.customerid\n",
    "        , CASE\n",
    "        WHEN TRIM(orig_test.category) LIKE 'NON CHURN' THEN 0 ELSE 1\n",
    "        END AS actual\n",
    "        FROM (SELECT\n",
    "            customerid\n",
    "            , category\n",
    "            FROM model_dataset_test\n",
    "            GROUP BY customerid, category\n",
    "            ) orig_test\n",
    "        ) actuals\n",
    "    INNER JOIN \n",
    "        (SELECT\n",
    "        customerid\n",
    "        , CASE WHEN loglik_0 > loglik_1 THEN 1 ELSE 0 END AS prediction\n",
    "        FROM csi_telco_churn_predict_test_pivot\n",
    "        ) predictions\n",
    "    ON actuals.customerid = predictions.customerid\n",
    ")\n",
    "WITH DATA;"
   ]
  },
  {
   "cell_type": "code",
   "execution_count": 15,
   "metadata": {},
   "outputs": [
    {
     "data": {
      "application/vnd.teradata.resultset": "[{\"actual\":\"1\",\"customerid\":\"350778\",\"prediction\":\"0\"},{\"actual\":\"1\",\"customerid\":\"351359\",\"prediction\":\"1\"},{\"actual\":\"1\",\"customerid\":\"350547\",\"prediction\":\"0\"},{\"actual\":\"1\",\"customerid\":\"350886\",\"prediction\":\"0\"},{\"actual\":\"1\",\"customerid\":\"351440\",\"prediction\":\"1\"},{\"actual\":\"1\",\"customerid\":\"350412\",\"prediction\":\"0\"},{\"actual\":\"1\",\"customerid\":\"350414\",\"prediction\":\"1\"},{\"actual\":\"1\",\"customerid\":\"350137\",\"prediction\":\"1\"},{\"actual\":\"1\",\"customerid\":\"351200\",\"prediction\":\"0\"},{\"actual\":\"1\",\"customerid\":\"350690\",\"prediction\":\"0\"},{\"actual\":\"1\",\"customerid\":\"351045\",\"prediction\":\"1\"},{\"actual\":\"1\",\"customerid\":\"350350\",\"prediction\":\"0\"},{\"actual\":\"1\",\"customerid\":\"350149\",\"prediction\":\"1\"},{\"actual\":\"1\",\"customerid\":\"353208\",\"prediction\":\"1\"},{\"actual\":\"1\",\"customerid\":\"350181\",\"prediction\":\"1\"},{\"actual\":\"1\",\"customerid\":\"350573\",\"prediction\":\"1\"},{\"actual\":\"1\",\"customerid\":\"351503\",\"prediction\":\"1\"},{\"actual\":\"1\",\"customerid\":\"350478\",\"prediction\":\"0\"},{\"actual\":\"1\",\"customerid\":\"351062\",\"prediction\":\"0\"},{\"actual\":\"1\",\"customerid\":\"350363\",\"prediction\":\"0\"},{\"actual\":\"1\",\"customerid\":\"351542\",\"prediction\":\"1\"},{\"actual\":\"1\",\"customerid\":\"353128\",\"prediction\":\"0\"},{\"actual\":\"1\",\"customerid\":\"353846\",\"prediction\":\"0\"},{\"actual\":\"1\",\"customerid\":\"351555\",\"prediction\":\"0\"},{\"actual\":\"1\",\"customerid\":\"350013\",\"prediction\":\"1\"},{\"actual\":\"1\",\"customerid\":\"351137\",\"prediction\":\"1\"},{\"actual\":\"1\",\"customerid\":\"351271\",\"prediction\":\"0\"},{\"actual\":\"1\",\"customerid\":\"350451\",\"prediction\":\"0\"},{\"actual\":\"1\",\"customerid\":\"354516\",\"prediction\":\"1\"},{\"actual\":\"1\",\"customerid\":\"351396\",\"prediction\":\"1\"},{\"actual\":\"1\",\"customerid\":\"350786\",\"prediction\":\"0\"},{\"actual\":\"1\",\"customerid\":\"350571\",\"prediction\":\"1\"},{\"actual\":\"1\",\"customerid\":\"353492\",\"prediction\":\"0\"},{\"actual\":\"1\",\"customerid\":\"350085\",\"prediction\":\"1\"},{\"actual\":\"1\",\"customerid\":\"351579\",\"prediction\":\"0\"},{\"actual\":\"1\",\"customerid\":\"350735\",\"prediction\":\"1\"},{\"actual\":\"1\",\"customerid\":\"353606\",\"prediction\":\"1\"}]\n",
      "text/html": [
       "<div class = \"td-resultset-table-div\" style = \"max-height: 537px; overflow-y: auto\"><style> table {border: 1px solid rgb(207, 207, 207) !important; border-collapse: collapse !important; margin-top: 1px !important;} th {border: 1px solid rgb(198,198,198) !important; border-collapse: collapse !important; padding: 2px 5px !important; font-size: 13px !important; min-width:150px !important; max-width: 150px !important; white-space: nowrap !important; overflow:hidden !important; text-overflow:ellipsis !important;} tr:nth-child(even) {background: rgba(243, 243, 243, 0.75) !important;} td {border: 1px solid rgb(207, 207, 207) !important; border-collapse: collapse !important; padding: 2px 5px !important; font-size: 13px !important; min-width:150px !important; max-width: 150px !important; white-space: nowrap !important; overflow:hidden !important; text-overflow:ellipsis !important;}</style><table><thead><tr style= \"background: #efefef;\"><th>customerid</th><th>actual</th><th>prediction</th></tr></thead><tr><td>350778</td><td>1</td><td>0</td></tr><tr><td>351359</td><td>1</td><td>1</td></tr><tr><td>350547</td><td>1</td><td>0</td></tr><tr><td>350886</td><td>1</td><td>0</td></tr><tr><td>351440</td><td>1</td><td>1</td></tr><tr><td>350412</td><td>1</td><td>0</td></tr><tr><td>350414</td><td>1</td><td>1</td></tr><tr><td>350137</td><td>1</td><td>1</td></tr><tr><td>351200</td><td>1</td><td>0</td></tr><tr><td>350690</td><td>1</td><td>0</td></tr><tr><td>351045</td><td>1</td><td>1</td></tr><tr><td>350350</td><td>1</td><td>0</td></tr><tr><td>350149</td><td>1</td><td>1</td></tr><tr><td>353208</td><td>1</td><td>1</td></tr><tr><td>350181</td><td>1</td><td>1</td></tr><tr><td>350573</td><td>1</td><td>1</td></tr><tr><td>351503</td><td>1</td><td>1</td></tr><tr><td>350478</td><td>1</td><td>0</td></tr><tr><td>351062</td><td>1</td><td>0</td></tr><tr><td>350363</td><td>1</td><td>0</td></tr><tr><td>351542</td><td>1</td><td>1</td></tr><tr><td>353128</td><td>1</td><td>0</td></tr><tr><td>353846</td><td>1</td><td>0</td></tr><tr><td>351555</td><td>1</td><td>0</td></tr><tr><td>350013</td><td>1</td><td>1</td></tr><tr><td>351137</td><td>1</td><td>1</td></tr><tr><td>351271</td><td>1</td><td>0</td></tr><tr><td>350451</td><td>1</td><td>0</td></tr><tr><td>354516</td><td>1</td><td>1</td></tr><tr><td>351396</td><td>1</td><td>1</td></tr><tr><td>350786</td><td>1</td><td>0</td></tr><tr><td>350571</td><td>1</td><td>1</td></tr><tr><td>353492</td><td>1</td><td>0</td></tr><tr><td>350085</td><td>1</td><td>1</td></tr><tr><td>351579</td><td>1</td><td>0</td></tr><tr><td>350735</td><td>1</td><td>1</td></tr><tr><td>353606</td><td>1</td><td>1</td></tr></table></div>"
      ]
     },
     "execution_count": 15,
     "metadata": {
      "application/vnd.teradata.resultset": "{\"resultSetID\":\"/Users/ck186030/Enterprise_Git_Master/Demos/DataScienceExploration/appcenter/DataScienceDemos/Telco Churn/teradata SQL kernal/Teradata/Resultsets/2019.07.04_20.41.34.280_CEST\",\"historyID\":98,\"chunkID\":\"00001\",\"sessionid\":\"\",\"portnum\":\"\",\"dockermode\":\"standalone\",\"totalRowCount\":37,\"rowLimit\":0,\"columnMetadata\":[{\"columnName\":\"customerid\",\"columnTypeName\":\"INTEGER\"},{\"columnNumber\":1,\"columnName\":\"actual\",\"columnTypeName\":\"BYTEINT\"},{\"columnNumber\":2,\"columnName\":\"prediction\",\"columnTypeName\":\"BYTEINT\"}]}"
     },
     "output_type": "execute_result"
    }
   ],
   "source": [
    "SELECT *\n",
    "FROM csi_telco_churn_predict_test_binary\n",
    "WHERE actual = 1 OR prediction = 1;"
   ]
  },
  {
   "cell_type": "markdown",
   "metadata": {},
   "source": [
    "#### 3. Create a confusion matrix to evaluate Naive Bayes model performance"
   ]
  },
  {
   "cell_type": "code",
   "execution_count": 16,
   "metadata": {},
   "outputs": [
    {
     "data": {
      "text/plain": [
       "Success: 16 rows affected"
      ]
     },
     "execution_count": 16,
     "metadata": {
      "application/vnd.teradata.resultset": ""
     },
     "output_type": "execute_result"
    }
   ],
   "source": [
    "DROP TABLE count_output;"
   ]
  },
  {
   "cell_type": "code",
   "execution_count": 17,
   "metadata": {},
   "outputs": [
    {
     "data": {
      "text/plain": [
       "Success: 15 rows affected"
      ]
     },
     "execution_count": 17,
     "metadata": {
      "application/vnd.teradata.resultset": ""
     },
     "output_type": "execute_result"
    }
   ],
   "source": [
    "DROP TABLE stat_output;"
   ]
  },
  {
   "cell_type": "code",
   "execution_count": 18,
   "metadata": {},
   "outputs": [
    {
     "data": {
      "text/plain": [
       "Success: 16 rows affected"
      ]
     },
     "execution_count": 18,
     "metadata": {
      "application/vnd.teradata.resultset": ""
     },
     "output_type": "execute_result"
    }
   ],
   "source": [
    "DROP TABLE acc_output;"
   ]
  },
  {
   "cell_type": "code",
   "execution_count": 19,
   "metadata": {},
   "outputs": [
    {
     "data": {
      "application/vnd.teradata.resultset": "[{\"message\":\"Success !\"},{\"message\":\"The result has been outputted to output tables\"}]\n",
      "text/html": [
       "<div class = \"td-resultset-table-div\" style = \"max-height: 97px; overflow-y: auto\"><style> table {border: 1px solid rgb(207, 207, 207) !important; border-collapse: collapse !important; margin-top: 1px !important;} th {border: 1px solid rgb(198,198,198) !important; border-collapse: collapse !important; padding: 2px 5px !important; font-size: 13px !important; min-width:150px !important; max-width: 150px !important; white-space: nowrap !important; overflow:hidden !important; text-overflow:ellipsis !important;} tr:nth-child(even) {background: rgba(243, 243, 243, 0.75) !important;} td {border: 1px solid rgb(207, 207, 207) !important; border-collapse: collapse !important; padding: 2px 5px !important; font-size: 13px !important; min-width:150px !important; max-width: 150px !important; white-space: nowrap !important; overflow:hidden !important; text-overflow:ellipsis !important;}</style><table><thead><tr style= \"background: #efefef;\"><th>message</th></tr></thead><tr><td>Success !</td></tr><tr><td>The result has been outputted to output tables</td></tr></table></div>"
      ]
     },
     "execution_count": 19,
     "metadata": {
      "application/vnd.teradata.resultset": "{\"resultSetID\":\"/Users/ck186030/Enterprise_Git_Master/Demos/DataScienceExploration/appcenter/DataScienceDemos/Telco Churn/teradata SQL kernal/Teradata/Resultsets/2019.07.04_20.42.24.411_CEST\",\"historyID\":102,\"chunkID\":\"00001\",\"sessionid\":\"\",\"portnum\":\"\",\"dockermode\":\"standalone\",\"totalRowCount\":2,\"rowLimit\":0,\"columnMetadata\":[{\"columnName\":\"message\",\"columnTypeName\":\"VARCHAR\",\"length\":500,\"scale\":500}]}"
     },
     "output_type": "execute_result"
    }
   ],
   "source": [
    "SELECT * FROM ConfusionMatrix (\n",
    "  ON csi_telco_churn_predict_test_binary\n",
    "    PARTITION BY 1\n",
    "    OUT TABLE CountTable (count_output)\n",
    "    OUT TABLE StatTable (stat_output)\n",
    "    OUT TABLE AccuracyTable(acc_output)\n",
    "    USING\n",
    "    ObsColumn ('actual')\n",
    "    PredictColumn ('prediction')\n",
    ") AS dt;"
   ]
  },
  {
   "cell_type": "code",
   "execution_count": 20,
   "metadata": {},
   "outputs": [
    {
     "data": {
      "application/vnd.teradata.resultset": "[{\"0\":\"18\",\"1\":\"19\",\"observation\":\"1\"},{\"0\":\"167210\",\"1\":\"0\",\"observation\":\"0\"}]\n",
      "text/html": [
       "<div class = \"td-resultset-table-div\" style = \"max-height: 97px; overflow-y: auto\"><style> table {border: 1px solid rgb(207, 207, 207) !important; border-collapse: collapse !important; margin-top: 1px !important;} th {border: 1px solid rgb(198,198,198) !important; border-collapse: collapse !important; padding: 2px 5px !important; font-size: 13px !important; min-width:150px !important; max-width: 150px !important; white-space: nowrap !important; overflow:hidden !important; text-overflow:ellipsis !important;} tr:nth-child(even) {background: rgba(243, 243, 243, 0.75) !important;} td {border: 1px solid rgb(207, 207, 207) !important; border-collapse: collapse !important; padding: 2px 5px !important; font-size: 13px !important; min-width:150px !important; max-width: 150px !important; white-space: nowrap !important; overflow:hidden !important; text-overflow:ellipsis !important;}</style><table><thead><tr style= \"background: #efefef;\"><th>observation</th><th>0</th><th>1</th></tr></thead><tr><td>1</td><td>18</td><td>19</td></tr><tr><td>0</td><td>167210</td><td>0</td></tr></table></div>"
      ]
     },
     "execution_count": 20,
     "metadata": {
      "application/vnd.teradata.resultset": "{\"resultSetID\":\"/Users/ck186030/Enterprise_Git_Master/Demos/DataScienceExploration/appcenter/DataScienceDemos/Telco Churn/teradata SQL kernal/Teradata/Resultsets/2019.07.04_20.42.27.178_CEST\",\"historyID\":103,\"chunkID\":\"00001\",\"sessionid\":\"\",\"portnum\":\"\",\"dockermode\":\"standalone\",\"totalRowCount\":2,\"rowLimit\":0,\"columnMetadata\":[{\"columnName\":\"observation\",\"columnTypeName\":\"VARCHAR\",\"length\":128,\"scale\":128},{\"columnNumber\":1,\"columnName\":\"0\",\"columnTypeName\":\"VARCHAR\",\"length\":128,\"scale\":128},{\"columnNumber\":2,\"columnName\":\"1\",\"columnTypeName\":\"VARCHAR\",\"length\":128,\"scale\":128}]}"
     },
     "output_type": "execute_result"
    }
   ],
   "source": [
    "SELECT * FROM count_output;"
   ]
  },
  {
   "cell_type": "code",
   "execution_count": 21,
   "metadata": {},
   "outputs": [
    {
     "data": {
      "application/vnd.teradata.resultset": "[{\"key\":\"95% CI\",\"value\":\"(0.9998, 0.9999)\"},{\"key\":\"P-Value [Acc \\u003e NIR]\",\"value\":\"0.0004\"},{\"key\":\"Mcnemar Test P-Value\",\"value\":\"0.0001\"},{\"key\":\"Accuracy\",\"value\":\"0.9999\"},{\"key\":\"Null Error Rate\",\"value\":\"0.0002\"},{\"key\":\"Kappa\",\"value\":\"1.0241\"}]\n",
      "text/html": [
       "<div class = \"td-resultset-table-div\" style = \"max-height: 177px; overflow-y: auto\"><style> table {border: 1px solid rgb(207, 207, 207) !important; border-collapse: collapse !important; margin-top: 1px !important;} th {border: 1px solid rgb(198,198,198) !important; border-collapse: collapse !important; padding: 2px 5px !important; font-size: 13px !important; min-width:150px !important; max-width: 150px !important; white-space: nowrap !important; overflow:hidden !important; text-overflow:ellipsis !important;} tr:nth-child(even) {background: rgba(243, 243, 243, 0.75) !important;} td {border: 1px solid rgb(207, 207, 207) !important; border-collapse: collapse !important; padding: 2px 5px !important; font-size: 13px !important; min-width:150px !important; max-width: 150px !important; white-space: nowrap !important; overflow:hidden !important; text-overflow:ellipsis !important;}</style><table><thead><tr style= \"background: #efefef;\"><th>key</th><th>value</th></tr></thead><tr><td>95% CI</td><td>(0.9998, 0.9999)</td></tr><tr><td>P-Value [Acc > NIR]</td><td>0.0004</td></tr><tr><td>Mcnemar Test P-Value</td><td>0.0001</td></tr><tr><td>Accuracy</td><td>0.9999</td></tr><tr><td>Null Error Rate</td><td>0.0002</td></tr><tr><td>Kappa</td><td>1.0241</td></tr></table></div>"
      ]
     },
     "execution_count": 21,
     "metadata": {
      "application/vnd.teradata.resultset": "{\"resultSetID\":\"/Users/ck186030/Enterprise_Git_Master/Demos/DataScienceExploration/appcenter/DataScienceDemos/Telco Churn/teradata SQL kernal/Teradata/Resultsets/2019.07.04_20.42.28.188_CEST\",\"historyID\":104,\"chunkID\":\"00001\",\"sessionid\":\"\",\"portnum\":\"\",\"dockermode\":\"standalone\",\"totalRowCount\":6,\"rowLimit\":0,\"columnMetadata\":[{\"columnName\":\"key\",\"columnTypeName\":\"VARCHAR\",\"length\":30,\"scale\":30},{\"columnNumber\":1,\"columnName\":\"value\",\"columnTypeName\":\"VARCHAR\",\"length\":40,\"scale\":40}]}"
     },
     "output_type": "execute_result"
    }
   ],
   "source": [
    "SELECT * FROM stat_output;"
   ]
  },
  {
   "cell_type": "code",
   "execution_count": 22,
   "metadata": {},
   "outputs": [
    {
     "data": {
      "application/vnd.teradata.resultset": "[{\"0\":\"0.5135\",\"1\":\"1\",\"measure\":\"Specificity\"},{\"0\":\"1\",\"1\":\"0.9999\",\"measure\":\"Neg Pred Value\"},{\"0\":\"0.9998\",\"1\":\"0.0001\",\"measure\":\"Detection Rate\"},{\"0\":\"0.7568\",\"1\":\"0.7568\",\"measure\":\"Balanced Accuracy\"},{\"0\":\"1\",\"1\":\"0.5135\",\"measure\":\"Sensitivity\"},{\"0\":\"0.9999\",\"1\":\"1\",\"measure\":\"Pos Pred Value\"},{\"0\":\"0.9998\",\"1\":\"0.0002\",\"measure\":\"Prevalence\"},{\"0\":\"0.9999\",\"1\":\"0.0001\",\"measure\":\"Detection Prevalence\"}]\n",
      "text/html": [
       "<div class = \"td-resultset-table-div\" style = \"max-height: 217px; overflow-y: auto\"><style> table {border: 1px solid rgb(207, 207, 207) !important; border-collapse: collapse !important; margin-top: 1px !important;} th {border: 1px solid rgb(198,198,198) !important; border-collapse: collapse !important; padding: 2px 5px !important; font-size: 13px !important; min-width:150px !important; max-width: 150px !important; white-space: nowrap !important; overflow:hidden !important; text-overflow:ellipsis !important;} tr:nth-child(even) {background: rgba(243, 243, 243, 0.75) !important;} td {border: 1px solid rgb(207, 207, 207) !important; border-collapse: collapse !important; padding: 2px 5px !important; font-size: 13px !important; min-width:150px !important; max-width: 150px !important; white-space: nowrap !important; overflow:hidden !important; text-overflow:ellipsis !important;}</style><table><thead><tr style= \"background: #efefef;\"><th>measure</th><th>0</th><th>1</th></tr></thead><tr><td>Specificity</td><td>0.5135</td><td>1</td></tr><tr><td>Neg Pred Value</td><td>1</td><td>0.9999</td></tr><tr><td>Detection Rate</td><td>0.9998</td><td>0.0001</td></tr><tr><td>Balanced Accuracy</td><td>0.7568</td><td>0.7568</td></tr><tr><td>Sensitivity</td><td>1</td><td>0.5135</td></tr><tr><td>Pos Pred Value</td><td>0.9999</td><td>1</td></tr><tr><td>Prevalence</td><td>0.9998</td><td>0.0002</td></tr><tr><td>Detection Prevalence</td><td>0.9999</td><td>0.0001</td></tr></table></div>"
      ]
     },
     "execution_count": 22,
     "metadata": {
      "application/vnd.teradata.resultset": "{\"resultSetID\":\"/Users/ck186030/Enterprise_Git_Master/Demos/DataScienceExploration/appcenter/DataScienceDemos/Telco Churn/teradata SQL kernal/Teradata/Resultsets/2019.07.04_20.42.29.365_CEST\",\"historyID\":105,\"chunkID\":\"00001\",\"sessionid\":\"\",\"portnum\":\"\",\"dockermode\":\"standalone\",\"totalRowCount\":8,\"rowLimit\":0,\"columnMetadata\":[{\"columnName\":\"measure\",\"columnTypeName\":\"VARCHAR\",\"length\":30,\"scale\":30},{\"columnNumber\":1,\"columnName\":\"0\",\"columnTypeName\":\"VARCHAR\",\"length\":128,\"scale\":128},{\"columnNumber\":2,\"columnName\":\"1\",\"columnTypeName\":\"VARCHAR\",\"length\":128,\"scale\":128}]}"
     },
     "output_type": "execute_result"
    }
   ],
   "source": [
    "SELECT * FROM acc_output;"
   ]
  }
 ],
 "metadata": {
  "kernelspec": {
   "display_name": "Teradata SQL",
   "language": "Teradata SQL",
   "name": "teradatasql"
  },
  "language_info": {
   "codemirror_mode": "Teradata SQL",
   "file_extension": ".tdrs",
   "mimetype": "application/vnd.teradata.resultset",
   "name": "Teradata SQL",
   "nbconvert_exporter": "",
   "pygments_lexer": "",
   "version": "16.20"
  }
 },
 "nbformat": 4,
 "nbformat_minor": 2
}
