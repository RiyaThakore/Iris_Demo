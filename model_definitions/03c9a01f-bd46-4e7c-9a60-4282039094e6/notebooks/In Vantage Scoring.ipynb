{
 "cells": [
  {
   "cell_type": "markdown",
   "metadata": {},
   "source": [
    "## In-Vantage Scoring via PMML\n",
    "\n",
    "As part of the PIMA Diabetes model, we produce a PMML representation of the xgboost model with the following code\n",
    "\n",
    "```python\n",
    "from nyoka import xgboost_to_pmml\n",
    "...\n",
    "xgboost_to_pmml(pipeline=model, col_names=feature_names, target_name=target_name, pmml_f_name=\"artifacts/output/model.pmml\")\n",
    "```\n",
    "\n",
    "You can deploy that In-Vantage via the AnalyticOps UI, just as with RESTFul and Batch deployments. This notebook shows you how you can then use this to score models via SQL. "
   ]
  },
  {
   "cell_type": "code",
   "execution_count": 1,
   "metadata": {},
   "outputs": [],
   "source": [
    "import os\n",
    "import pandas as pd\n",
    "import getpass\n",
    "\n",
    "from teradataml import create_context, remove_context\n",
    "from teradataml.context.context import get_connection"
   ]
  },
  {
   "cell_type": "code",
   "execution_count": 2,
   "metadata": {},
   "outputs": [
    {
     "name": "stdin",
     "output_type": "stream",
     "text": [
      "Password ···········\n"
     ]
    }
   ],
   "source": [
    "password = getpass.getpass(\"Password\")\n",
    "\n",
    "engine = create_context(host=\"40.117.178.55\", username=\"aoa_service\", password=password, database=\"aoa_data\")\n",
    "conn = get_connection()\n",
    "cursor = engine.raw_connection().cursor()"
   ]
  },
  {
   "cell_type": "markdown",
   "metadata": {},
   "source": [
    "## View Published Models\n",
    "\n",
    "We can view the models published to vantage by querying the table they are published to. Note this information is available via the AOA APIs also"
   ]
  },
  {
   "cell_type": "code",
   "execution_count": 3,
   "metadata": {},
   "outputs": [
    {
     "data": {
      "text/html": [
       "<div>\n",
       "<style scoped>\n",
       "    .dataframe tbody tr th:only-of-type {\n",
       "        vertical-align: middle;\n",
       "    }\n",
       "\n",
       "    .dataframe tbody tr th {\n",
       "        vertical-align: top;\n",
       "    }\n",
       "\n",
       "    .dataframe thead th {\n",
       "        text-align: right;\n",
       "    }\n",
       "</style>\n",
       "<table border=\"1\" class=\"dataframe\">\n",
       "  <thead>\n",
       "    <tr style=\"text-align: right;\">\n",
       "      <th></th>\n",
       "      <th>model_version</th>\n",
       "      <th>model_id</th>\n",
       "      <th>model_type</th>\n",
       "      <th>project_id</th>\n",
       "      <th>deployed_at</th>\n",
       "      <th>model</th>\n",
       "    </tr>\n",
       "  </thead>\n",
       "  <tbody>\n",
       "    <tr>\n",
       "      <th>0</th>\n",
       "      <td>dbc5f29e-ac76-441e-8025-9344307f635f</td>\n",
       "      <td>f937b5d8-02c6-5150-80c7-1e4ff07fea31</td>\n",
       "      <td>PMML</td>\n",
       "      <td>23e1df4b-b630-47a1-ab80-7ad5385fcd8d</td>\n",
       "      <td>2022-01-10 19:08:24.130</td>\n",
       "      <td>b'&lt;?xml version=\"1.0\" encoding=\"UTF-8\"?&gt;\\n&lt;PMML xmlns=\"http://www.dmg.org/PMML-4_4\" version=\"4.4\"&gt;\\n    &lt;Header copyright=\"Copyright (c) 2018 Software AG\" description=\"Default Description\"&gt;\\n        &lt;Application name=\"Nyoka\" version=\"4.3.0\"/&gt;\\n  ...</td>\n",
       "    </tr>\n",
       "    <tr>\n",
       "      <th>1</th>\n",
       "      <td>df300e1a-781b-4b3e-9b8e-f32ef54c7a89</td>\n",
       "      <td>73d3f5a1-a5a9-55fd-9fe8-298a8aa7929d</td>\n",
       "      <td>PMML</td>\n",
       "      <td>a85ede91-9b28-4a7d-bb32-eee2aaffa82f</td>\n",
       "      <td>2022-01-10 19:09:58.490</td>\n",
       "      <td>b'&lt;?xml version=\"1.0\" encoding=\"UTF-8\"?&gt;\\n&lt;PMML xmlns=\"http://www.dmg.org/PMML-4_4\" version=\"4.4\"&gt;\\n    &lt;Header copyright=\"Copyright (c) 2018 Software AG\" description=\"Default Description\"&gt;\\n        &lt;Application name=\"Nyoka\" version=\"4.3.0\"/&gt;\\n  ...</td>\n",
       "    </tr>\n",
       "  </tbody>\n",
       "</table>\n",
       "</div>"
      ],
      "text/plain": [
       "                          model_version                              model_id  \\\n",
       "0  dbc5f29e-ac76-441e-8025-9344307f635f  f937b5d8-02c6-5150-80c7-1e4ff07fea31   \n",
       "1  df300e1a-781b-4b3e-9b8e-f32ef54c7a89  73d3f5a1-a5a9-55fd-9fe8-298a8aa7929d   \n",
       "\n",
       "  model_type                            project_id             deployed_at  \\\n",
       "0       PMML  23e1df4b-b630-47a1-ab80-7ad5385fcd8d 2022-01-10 19:08:24.130   \n",
       "1       PMML  a85ede91-9b28-4a7d-bb32-eee2aaffa82f 2022-01-10 19:09:58.490   \n",
       "\n",
       "                                                                                                                                                                                                                                                       model  \n",
       "0  b'<?xml version=\"1.0\" encoding=\"UTF-8\"?>\\n<PMML xmlns=\"http://www.dmg.org/PMML-4_4\" version=\"4.4\">\\n    <Header copyright=\"Copyright (c) 2018 Software AG\" description=\"Default Description\">\\n        <Application name=\"Nyoka\" version=\"4.3.0\"/>\\n  ...  \n",
       "1  b'<?xml version=\"1.0\" encoding=\"UTF-8\"?>\\n<PMML xmlns=\"http://www.dmg.org/PMML-4_4\" version=\"4.4\">\\n    <Header copyright=\"Copyright (c) 2018 Software AG\" description=\"Default Description\">\\n        <Application name=\"Nyoka\" version=\"4.3.0\"/>\\n  ...  "
      ]
     },
     "execution_count": 3,
     "metadata": {},
     "output_type": "execute_result"
    }
   ],
   "source": [
    "pd.options.display.max_colwidth = 250\n",
    "pd.read_sql(\"select * from aoa_ivsm_models\", conn)"
   ]
  },
  {
   "cell_type": "markdown",
   "metadata": {},
   "source": [
    "## On-Demand Scoring"
   ]
  },
  {
   "cell_type": "code",
   "execution_count": 5,
   "metadata": {},
   "outputs": [
    {
     "data": {
      "text/html": [
       "<div>\n",
       "<style scoped>\n",
       "    .dataframe tbody tr th:only-of-type {\n",
       "        vertical-align: middle;\n",
       "    }\n",
       "\n",
       "    .dataframe tbody tr th {\n",
       "        vertical-align: top;\n",
       "    }\n",
       "\n",
       "    .dataframe thead th {\n",
       "        text-align: right;\n",
       "    }\n",
       "</style>\n",
       "<table border=\"1\" class=\"dataframe\">\n",
       "  <thead>\n",
       "    <tr style=\"text-align: right;\">\n",
       "      <th></th>\n",
       "      <th>PatientId</th>\n",
       "      <th>score_result</th>\n",
       "    </tr>\n",
       "  </thead>\n",
       "  <tbody>\n",
       "    <tr>\n",
       "      <th>0</th>\n",
       "      <td>3</td>\n",
       "      <td>{\"probability_0\":0.9985361840112014,\"probability_1\":0.0014638159887985821,\"predicted_HasDiabetes\":0,\"probability\":0.9985361840112014}</td>\n",
       "    </tr>\n",
       "    <tr>\n",
       "      <th>1</th>\n",
       "      <td>4</td>\n",
       "      <td>{\"probability_0\":0.31451604819478785,\"probability_1\":0.6854839518052122,\"predicted_HasDiabetes\":1,\"probability\":0.6854839518052122}</td>\n",
       "    </tr>\n",
       "    <tr>\n",
       "      <th>2</th>\n",
       "      <td>5</td>\n",
       "      <td>{\"probability_0\":0.9527500266004268,\"probability_1\":0.04724997339957319,\"predicted_HasDiabetes\":0,\"probability\":0.9527500266004268}</td>\n",
       "    </tr>\n",
       "    <tr>\n",
       "      <th>3</th>\n",
       "      <td>21</td>\n",
       "      <td>{\"probability_0\":0.8676194791001057,\"probability_1\":0.13238052089989427,\"predicted_HasDiabetes\":0,\"probability\":0.8676194791001057}</td>\n",
       "    </tr>\n",
       "    <tr>\n",
       "      <th>4</th>\n",
       "      <td>23</td>\n",
       "      <td>{\"probability_0\":0.13552471706313474,\"probability_1\":0.8644752829368653,\"predicted_HasDiabetes\":1,\"probability\":0.8644752829368653}</td>\n",
       "    </tr>\n",
       "  </tbody>\n",
       "</table>\n",
       "</div>"
      ],
      "text/plain": [
       "   PatientId  \\\n",
       "0          3   \n",
       "1          4   \n",
       "2          5   \n",
       "3         21   \n",
       "4         23   \n",
       "\n",
       "                                                                                                                            score_result  \n",
       "0  {\"probability_0\":0.9985361840112014,\"probability_1\":0.0014638159887985821,\"predicted_HasDiabetes\":0,\"probability\":0.9985361840112014}  \n",
       "1    {\"probability_0\":0.31451604819478785,\"probability_1\":0.6854839518052122,\"predicted_HasDiabetes\":1,\"probability\":0.6854839518052122}  \n",
       "2    {\"probability_0\":0.9527500266004268,\"probability_1\":0.04724997339957319,\"predicted_HasDiabetes\":0,\"probability\":0.9527500266004268}  \n",
       "3    {\"probability_0\":0.8676194791001057,\"probability_1\":0.13238052089989427,\"predicted_HasDiabetes\":0,\"probability\":0.8676194791001057}  \n",
       "4    {\"probability_0\":0.13552471706313474,\"probability_1\":0.8644752829368653,\"predicted_HasDiabetes\":1,\"probability\":0.8644752829368653}  "
      ]
     },
     "execution_count": 5,
     "metadata": {},
     "output_type": "execute_result"
    }
   ],
   "source": [
    "query=\"\"\"\n",
    "SELECT * FROM IVSM.IVSM_SCORE(\n",
    "    on PIMA_TEST\n",
    "    on (SELECT model_id, model FROM aoa_ivsm_models WHERE model_version = 'dbc5f29e-ac76-441e-8025-9344307f635f') AS ModelTable DIMENSION\n",
    "    using\n",
    "        ModelID('f937b5d8-02c6-5150-80c7-1e4ff07fea31')\n",
    "        ColumnsToPreserve('PatientId')\n",
    "        ModelType('PMML')\n",
    ") sc;\n",
    "\"\"\"\n",
    "pd.read_sql(query, conn).head()"
   ]
  },
  {
   "cell_type": "markdown",
   "metadata": {},
   "source": [
    "Copyright 2021 Teradata. All rights reserved."
   ]
  }
 ],
 "metadata": {
  "kernelspec": {
   "display_name": "Python 3.9",
   "language": "python",
   "name": "python3"
  },
  "language_info": {
   "codemirror_mode": {
    "name": "ipython",
    "version": 3
   },
   "file_extension": ".py",
   "mimetype": "text/x-python",
   "name": "python",
   "nbconvert_exporter": "python",
   "pygments_lexer": "ipython3",
   "version": "3.9.7"
  }
 },
 "nbformat": 4,
 "nbformat_minor": 4
}
